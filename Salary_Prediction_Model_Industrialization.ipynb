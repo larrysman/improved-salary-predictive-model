{
 "cells": [
  {
   "cell_type": "markdown",
   "id": "39f29c7c-1049-45f8-b18e-ade62a4fff52",
   "metadata": {},
   "source": [
    "#### <font color = 'green'> IT professionals and Developers Salary Prediction Model Industrialization"
   ]
  },
  {
   "cell_type": "markdown",
   "id": "4d54667e-a7f8-4cde-96f8-66900db931ac",
   "metadata": {},
   "source": [
    "###### Import necessary libaries"
   ]
  },
  {
   "cell_type": "code",
   "execution_count": 1,
   "id": "a3846157-5d9c-43f3-a49b-e139f37e7b03",
   "metadata": {},
   "outputs": [],
   "source": [
    "import os\n",
    "import numpy as np\n",
    "import pandas as pd\n",
    "import matplotlib.pyplot as plt\n",
    "import seaborn as sb\n",
    "import pickle"
   ]
  },
  {
   "cell_type": "markdown",
   "id": "f516b9b3-265e-4c29-bbce-db9e65157d97",
   "metadata": {},
   "source": [
    "###### Define the path to the folders containing the preprocessing and model artifacts"
   ]
  },
  {
   "cell_type": "code",
   "execution_count": 2,
   "id": "96fca86f-1030-44dd-94cb-d6b882b98453",
   "metadata": {},
   "outputs": [
    {
     "data": {
      "text/plain": [
       "'C:\\\\Users\\\\Olanrewaju Adegoke\\\\Desktop\\\\TechTern\\\\mywork\\\\Stackoverflow_Salary_Project\\\\notebooks'"
      ]
     },
     "execution_count": 2,
     "metadata": {},
     "output_type": "execute_result"
    }
   ],
   "source": [
    "os.getcwd()"
   ]
  },
  {
   "cell_type": "code",
   "execution_count": 3,
   "id": "30708e36-36f8-447e-9294-3df52b055770",
   "metadata": {},
   "outputs": [],
   "source": [
    "data_path = '../data'\n",
    "model_path = '../models'\n",
    "note_path = '../notebooks'"
   ]
  },
  {
   "cell_type": "markdown",
   "id": "bc99cc8e-33c9-4444-8047-39f32bbaf8c8",
   "metadata": {},
   "source": [
    "###### Function that load the model and preprocessing artifacts"
   ]
  },
  {
   "cell_type": "code",
   "execution_count": 4,
   "id": "bac235a8-b5d2-401b-800d-fc431f1172b3",
   "metadata": {},
   "outputs": [],
   "source": [
    "def load_saved_model_and_preprocessing_artifact():\n",
    "    os.chdir(model_path)\n",
    "    with open('model_preprocessing_steps_stackoverflow.pkl', 'rb') as file:\n",
    "        inference = pickle.load(file)\n",
    "    return inference"
   ]
  },
  {
   "cell_type": "markdown",
   "id": "c61491cc-a632-4571-b44f-4739b4835b82",
   "metadata": {},
   "source": [
    "###### Instantiate all the instances of the artifacts"
   ]
  },
  {
   "cell_type": "code",
   "execution_count": 5,
   "id": "d5f625ab-2f4d-491f-a82b-820b43c0665e",
   "metadata": {},
   "outputs": [],
   "source": [
    "inference = load_saved_model_and_preprocessing_artifact()\n",
    "os.chdir(note_path)\n",
    "inference_model = inference['model']\n",
    "inference_scaler = inference['scaler']\n",
    "inference_minmax = inference['min_max']\n",
    "inference_onehot = inference['onehot']"
   ]
  },
  {
   "cell_type": "markdown",
   "id": "f7c8acd5-d8a6-4a25-8304-55646d1848ff",
   "metadata": {},
   "source": [
    "###### The prediction and inference pipeline"
   ]
  },
  {
   "cell_type": "code",
   "execution_count": 6,
   "id": "a69f838c-0869-4921-8ee3-947fca1edaae",
   "metadata": {},
   "outputs": [],
   "source": [
    "model = inference_model\n",
    "inference_scaler\n",
    "inference_minmax\n",
    "inference_onehot\n",
    "\n",
    "def prep_prediction_inference(\n",
    "    highest_education, certifications, job_type, country,\n",
    "    age_range, prog_lang, database, cloud_platform, webframe,\n",
    "    tech_tool, collab_tool, aisearchtool, aidevtool,\n",
    "    employment_status, work_option, org_size, industry,\n",
    "    years_of_coding, years_of_pro_coding, years_of_work_exp\n",
    "):\n",
    "    cols = [\n",
    "        'highest_education', 'certifications', 'job_type', 'country',\n",
    "       'age_range', 'prog_lang', 'database', 'cloud_platform', 'webframe',\n",
    "       'tech_tool', 'collab_tool', 'aisearchtool', 'aidevtool',\n",
    "       'employment_status', 'work_option', 'org_size', 'industry',\n",
    "       'years_of_coding', 'years_of_pro_coding', 'years_of_work_exp'\n",
    "    ]\n",
    "    input_data = np.array([[\n",
    "        highest_education, certifications, job_type, country,\n",
    "        age_range, prog_lang, database, cloud_platform, webframe,\n",
    "        tech_tool, collab_tool, aisearchtool, aidevtool,\n",
    "        employment_status, work_option, org_size, industry,\n",
    "        years_of_coding, years_of_pro_coding, years_of_work_exp\n",
    "    ]])\n",
    "    input_df = pd.DataFrame(input_data, columns=cols)\n",
    "\n",
    "    # Convert the string columns to numeric\n",
    "    input_df['years_of_coding'] = pd.to_numeric(input_df['years_of_coding'], downcast='float')\n",
    "    input_df['years_of_pro_coding'] = pd.to_numeric(input_df['years_of_pro_coding'], downcast='float')\n",
    "    input_df['years_of_work_exp'] = pd.to_numeric(input_df['years_of_work_exp'], downcast='float')\n",
    "    \n",
    "    \n",
    "    num_data = input_df.select_dtypes(include=['int', 'float'])\n",
    "    cat_data = input_df.select_dtypes(include=['object'])\n",
    "    \n",
    "    num = inference_scaler.transform(num_data)\n",
    "    num = inference_minmax.transform(num)\n",
    "    num_df = pd.DataFrame(num, columns=list(num_data.columns))\n",
    "    \n",
    "    cat = inference_onehot.transform(cat_data)\n",
    "    cat_df = cat.reset_index(drop=True) \n",
    "\n",
    "    features = pd.concat([num_df, cat_df], axis=1)\n",
    "    predictions = model.predict(features)\n",
    "    salary = pd.DataFrame({'estimated_salary': [predictions[0]]})\n",
    "\n",
    "    return round(salary)"
   ]
  },
  {
   "cell_type": "markdown",
   "id": "14f9139d-1645-4ce5-80f9-c8db0700115e",
   "metadata": {},
   "source": [
    "###### Install gradio GUI interface"
   ]
  },
  {
   "cell_type": "raw",
   "id": "5ac4b7c4-766e-4581-8430-004dc3d83d77",
   "metadata": {},
   "source": [
    "!pip install gradio"
   ]
  },
  {
   "cell_type": "markdown",
   "id": "877ecf37-ecbf-48bd-9fec-4141592331bd",
   "metadata": {},
   "source": [
    "###### Launch the gradio interface for industrializing the model"
   ]
  },
  {
   "cell_type": "code",
   "execution_count": 7,
   "id": "884e3785-3c1f-4d3e-94db-00727de56763",
   "metadata": {},
   "outputs": [],
   "source": [
    "sample = [['below bachelor',\n",
    "  'Others',\n",
    "  'Others',\n",
    "  'UK',\n",
    "  'Under_18',\n",
    "  'Go',\n",
    "  'MySQL',\n",
    "  'Others',\n",
    "  'Others',\n",
    "  'Others',\n",
    "  'Others',\n",
    "  'Bing_AI',\n",
    "  'Others',\n",
    "  'Student, full-time',\n",
    "  'Hybrid',\n",
    "  '20 to 99 employees',\n",
    "  'Other',\n",
    "  7.0,\n",
    "  11.0,\n",
    "  11.0],\n",
    " ['Bachelor',\n",
    "  'Others',\n",
    "  'Others',\n",
    "  'Others',\n",
    "  '25-34',\n",
    "  'Java',\n",
    "  'Firebase Realtime Database',\n",
    "  'Others',\n",
    "  'Others',\n",
    "  'Others',\n",
    "  'Android Studio',\n",
    "  'ChatGPT',\n",
    "  'Others',\n",
    "  'Employed, full-time',\n",
    "  'Hybrid',\n",
    "  '20 to 99 employees',\n",
    "  'Other',\n",
    "  5.0,\n",
    "  4.0,\n",
    "  11.0],\n",
    " ['below bachelor',\n",
    "  'Others',\n",
    "  'Others',\n",
    "  'UK',\n",
    "  'Under_18',\n",
    "  'Others',\n",
    "  'Others',\n",
    "  'Others',\n",
    "  'Others',\n",
    "  'Others',\n",
    "  'Android Studio',\n",
    "  'Others',\n",
    "  'Others',\n",
    "  'Student, full-time',\n",
    "  'Hybrid',\n",
    "  '20 to 99 employees',\n",
    "  'Other',\n",
    "  4.0,\n",
    "  11.0,\n",
    "  11.0]]"
   ]
  },
  {
   "cell_type": "code",
   "execution_count": 8,
   "id": "e79114e8-4463-4374-9edd-7be70210d1c7",
   "metadata": {},
   "outputs": [
    {
     "name": "stderr",
     "output_type": "stream",
     "text": [
      "C:\\Users\\Olanrewaju Adegoke\\Desktop\\TechTern\\mywork\\Lib\\site-packages\\tqdm\\auto.py:21: TqdmWarning: IProgress not found. Please update jupyter and ipywidgets. See https://ipywidgets.readthedocs.io/en/stable/user_install.html\n",
      "  from .autonotebook import tqdm as notebook_tqdm\n"
     ]
    },
    {
     "name": "stdout",
     "output_type": "stream",
     "text": [
      "Running on local URL:  http://127.0.0.1:7864\n"
     ]
    },
    {
     "name": "stderr",
     "output_type": "stream",
     "text": [
      "C:\\Users\\Olanrewaju Adegoke\\Desktop\\TechTern\\mywork\\Lib\\site-packages\\gradio\\analytics.py:106: UserWarning: IMPORTANT: You are using gradio version 4.37.2, however version 4.44.1 is available, please upgrade. \n",
      "--------\n",
      "  warnings.warn(\n"
     ]
    },
    {
     "name": "stdout",
     "output_type": "stream",
     "text": [
      "Running on public URL: https://e5c6120ec6b2b5b1a3.gradio.live\n",
      "\n",
      "This share link expires in 72 hours. For free permanent hosting and GPU upgrades, run `gradio deploy` from Terminal to deploy to Spaces (https://huggingface.co/spaces)\n"
     ]
    },
    {
     "data": {
      "text/html": [
       "<div><iframe src=\"https://e5c6120ec6b2b5b1a3.gradio.live\" width=\"100%\" height=\"500\" allow=\"autoplay; camera; microphone; clipboard-read; clipboard-write;\" frameborder=\"0\" allowfullscreen></iframe></div>"
      ],
      "text/plain": [
       "<IPython.core.display.HTML object>"
      ]
     },
     "metadata": {},
     "output_type": "display_data"
    },
    {
     "data": {
      "text/plain": []
     },
     "execution_count": 8,
     "metadata": {},
     "output_type": "execute_result"
    }
   ],
   "source": [
    "import gradio as gr\n",
    "\n",
    "sample_data = sample\n",
    "\n",
    "inputs=[\n",
    "        gr.Textbox(label='highest_education'),\n",
    "        gr.Textbox(label='certifications'),\n",
    "        gr.Textbox(label='job_type'),\n",
    "        gr.Textbox(label='country'),\n",
    "        gr.Textbox(label='age_range'),\n",
    "        gr.Textbox(label='prog_lang'),\n",
    "        gr.Textbox(label='database'),\n",
    "        gr.Textbox(label='cloud_platform'),\n",
    "        gr.Textbox(label='webframe'),\n",
    "        gr.Textbox(label='tech_tool'),\n",
    "        gr.Textbox(label='collab_tool'),\n",
    "        gr.Textbox(label='aisearchtool'),\n",
    "        gr.Textbox(label='aidevtool'),\n",
    "        gr.Textbox(label='employment_status'),\n",
    "        gr.Textbox(label='work_option'),\n",
    "        gr.Textbox(label='org_size'),\n",
    "        gr.Textbox(label='industry'),\n",
    "        gr.Number(label='years_of_coding'),\n",
    "        gr.Number(label='years_of_pro_coding'),\n",
    "        gr.Number(label='years_of_work_exp')\n",
    "    ]\n",
    "\n",
    "outputs = [gr.Dataframe(row_count = (1, \"dynamic\"), col_count=(1, \"fixed\"), label=\"Developers and Tech Professionals Salary\", headers=['estimated_salary'])]\n",
    "\n",
    "title='StackOverFlow Developers and Tech Professionals Salary Predicition Model by Olanrewaju Adegoke'\n",
    "description='You can supply the inputs or select the sample data points to determine the salaries of your desired role.'\n",
    "\n",
    "interface = gr.Interface(fn = prep_prediction_inference, inputs = inputs, outputs = outputs, title=title, description=description, examples=sample_data)\n",
    "\n",
    "interface.launch(share=True)"
   ]
  }
 ],
 "metadata": {
  "kernelspec": {
   "display_name": "Python 3 (ipykernel)",
   "language": "python",
   "name": "python3"
  },
  "language_info": {
   "codemirror_mode": {
    "name": "ipython",
    "version": 3
   },
   "file_extension": ".py",
   "mimetype": "text/x-python",
   "name": "python",
   "nbconvert_exporter": "python",
   "pygments_lexer": "ipython3",
   "version": "3.12.1"
  }
 },
 "nbformat": 4,
 "nbformat_minor": 5
}
